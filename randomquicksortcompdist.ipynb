{
 "cells": [
  {
   "cell_type": "code",
   "execution_count": 1,
   "metadata": {
    "collapsed": false,
    "scrolled": true
   },
   "outputs": [],
   "source": [
    "import random\n",
    "import statistics\n",
    "import matplotlib.pyplot as plt\n",
    "%matplotlib inline"
   ]
  },
  {
   "cell_type": "code",
   "execution_count": 2,
   "metadata": {
    "collapsed": true
   },
   "outputs": [],
   "source": [
    "def randomquicksort(alist,times):\n",
    "   comp = [0]\n",
    "   randomquicksorthelper(alist,0,len(alist)-1,comp)\n",
    "   times.append(comp[0])"
   ]
  },
  {
   "cell_type": "code",
   "execution_count": 3,
   "metadata": {
    "collapsed": true
   },
   "outputs": [],
   "source": [
    "def randomquicksorthelper(alist,first,last,comp):\n",
    "   if first<last:\n",
    "\n",
    "       r = randompartition(alist,first,last)\n",
    "       splitpoint = r[0]\n",
    "       tmp = comp.pop()\n",
    "       comp.append(tmp+r[1])\n",
    "    \n",
    "       randomquicksorthelper(alist,first,splitpoint-1,comp)\n",
    "       randomquicksorthelper(alist,splitpoint+1,last,comp)"
   ]
  },
  {
   "cell_type": "code",
   "execution_count": 4,
   "metadata": {
    "collapsed": false
   },
   "outputs": [],
   "source": [
    "def randompartition(alist,first,last):\n",
    "  \n",
    "   indxpiv = random.randint(first,last)\n",
    "   temp = alist[indxpiv]\n",
    "   alist[indxpiv] = alist[first]\n",
    "   alist[first] = temp\n",
    "   \n",
    "   pivotvalue = alist[first]\n",
    "   compspart = 0\n",
    "\n",
    "   leftmark = first\n",
    "   rightmark = first + 1\n",
    "\n",
    "   done = False\n",
    "   for  rightmark in range(first +1 , last):\n",
    "       if alist[rightmark] <= pivotvalue:\n",
    "            leftmark += 1\n",
    "            temp = alist[leftmark]\n",
    "            alist[leftmark] = alist[rightmark]\n",
    "            alist[rightmark] = temp\n",
    "            compspart = compspart + 1\n",
    "       compspart = compspart + 1\n",
    "           \n",
    "\n",
    "   temp = alist[first]\n",
    "   alist[first] = alist[leftmark]\n",
    "   alist[leftmark] = temp\n",
    "\n",
    "\n",
    "   return rightmark,compspart"
   ]
  },
  {
   "cell_type": "code",
   "execution_count": 5,
   "metadata": {
    "collapsed": false
   },
   "outputs": [],
   "source": [
    "def randomquicksorttimedistrib(s,r):\n",
    "    \n",
    "    # Create an array of 1 .. n  \n",
    "    n=s\n",
    "    runs=r\n",
    "    x = []\n",
    "    for i in range(1,n+1):\n",
    "        x.append(n+1-i)\n",
    "    \n",
    "     # Run quicksort for each permutation\n",
    "    tlist =[]\n",
    "    for p in range(1,runs+1):\n",
    "          y = list(x)\n",
    "          randomquicksort(y,tlist)\n",
    "          \n",
    "        \n",
    "    plt.hist(tlist)\n",
    "    plt.title(\"Number of comparison of Quicksort for all permutaions\")\n",
    "    plt.xlabel(\"Comparisons of elements\")\n",
    "    plt.ylabel(\"Frequency\")\n",
    "    plt.show()\n",
    "    \n",
    "    print(\"n\",n)\n",
    "    print(\"runs\",runs)\n",
    "    print(\"mean\",statistics.mean(tlist))\n",
    "    print(\"stdev\",statistics.stdev(tlist))\n",
    "    print(\"min\",min(tlist))\n",
    "    print(\"max\",max(tlist))"
   ]
  },
  {
   "cell_type": "code",
   "execution_count": 6,
   "metadata": {
    "collapsed": false
   },
   "outputs": [
    {
     "data": {
      "image/png": "[encoded data removed]",
      "text/plain": [
       "<matplotlib.figure.Figure at 0x5a18438>"
      ]
     },
     "metadata": {},
     "output_type": "display_data"
    },
    {
     "name": "stdout",
     "output_type": "stream",
     "text": [
      "('n', 100)\n",
      "('runs', 10000)\n",
      "('mean', 3693.2151)\n",
      "('stdev', 119.68151736400176)\n",
      "('min', 3223)\n",
      "('max', 4169)\n"
     ]
    }
   ],
   "source": [
    "randomquicksorttimedistrib(100,10000)"
   ]
  }
 ],
 "metadata": {
  "anaconda-cloud": {},
  "kernelspec": {
   "display_name": "Python [conda root]",
   "language": "python",
   "name": "conda-root-py"
  },
  "language_info": {
   "codemirror_mode": {
    "name": "ipython",
    "version": 2
   },
   "file_extension": ".py",
   "mimetype": "text/x-python",
   "name": "python",
   "nbconvert_exporter": "python",
   "pygments_lexer": "ipython2",
   "version": "2.7.12"
  }
 },
 "nbformat": 4,
 "nbformat_minor": 0
}
